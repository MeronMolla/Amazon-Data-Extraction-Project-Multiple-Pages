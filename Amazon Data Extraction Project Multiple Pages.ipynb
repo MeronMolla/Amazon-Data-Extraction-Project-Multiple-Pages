{
 "cells": [
  {
   "cell_type": "markdown",
   "id": "8718572c",
   "metadata": {},
   "source": [
    "# Extracting Product Information from Amazon Website using Scrapy.\n",
    "# Objectives:\n",
    "This project implements Python web scraping tools to extract \"data science books\" information such as book titles, authors, reviews, prices, and image URL links to analyze correlation of columens and give informative insights to users. Collected data has been stored in CSV and JSON format for future use or advanced analysis. \n",
    "\n",
    "# Contents\n",
    "    ∎ Multiple page data scraped from the amazon website using Scrapy, CSS selector, and VS Code\n",
    "    ∎ Importing necessary python libraries to crawl and analyze the data\n",
    "    ∎ Import & Inspect raw data table structure\n",
    "    ∎ Detecting nulls\n",
    "    ∎ Handling nulls & duplicated values\n",
    "    ∎ Renaming & rearrange columns\n",
    "    ∎ Convert dtype 'object' to 'int' to analyze reviews & price column as a numerical value\n",
    "    ∎ Top 10 books with a title containing \"Data Science\" including the highest reviews and lowest price\n",
    "    ∎ Book title contains \"Data Analytics\"\n",
    "    ∎ Books having >=200 reviews\n",
    "    ∎ Grouping books by author & reviews \n",
    "    ∎ Highest, minimum, and average purchase prices\n",
    "    ∎ Which books has highest-Reviews?\n",
    "    ∎ Which books has Minimum reviews?\n",
    "    ∎ Does higher priced books are of better reviews?"
   ]
  },
  {
   "cell_type": "markdown",
   "id": "74b3dfab",
   "metadata": {},
   "source": [
    "# 1. Importing necessary python libraries"
   ]
  },
  {
   "cell_type": "code",
   "execution_count": 2,
   "id": "84435ef4",
   "metadata": {},
   "outputs": [],
   "source": [
    "import numpy as np\n",
    "import seaborn as sns\n",
    "import matplotlib.pyplot as plt\n",
    "import plotly.express as px\n",
    "import pandas as pd"
   ]
  },
  {
   "cell_type": "markdown",
   "id": "c816e415",
   "metadata": {},
   "source": [
    "# 2. Import & Inspect raw data table structure"
   ]
  },
  {
   "cell_type": "code",
   "execution_count": 3,
   "id": "728095d8",
   "metadata": {},
   "outputs": [
    {
     "data": {
      "text/html": [
       "<div>\n",
       "<style scoped>\n",
       "    .dataframe tbody tr th:only-of-type {\n",
       "        vertical-align: middle;\n",
       "    }\n",
       "\n",
       "    .dataframe tbody tr th {\n",
       "        vertical-align: top;\n",
       "    }\n",
       "\n",
       "    .dataframe thead th {\n",
       "        text-align: right;\n",
       "    }\n",
       "</style>\n",
       "<table border=\"1\" class=\"dataframe\">\n",
       "  <thead>\n",
       "    <tr style=\"text-align: right;\">\n",
       "      <th></th>\n",
       "      <th>author</th>\n",
       "      <th>product_name</th>\n",
       "      <th>product_price</th>\n",
       "      <th>product_reviews</th>\n",
       "      <th>product_url</th>\n",
       "    </tr>\n",
       "  </thead>\n",
       "  <tbody>\n",
       "    <tr>\n",
       "      <th>0</th>\n",
       "      <td>Alex J. Gutman</td>\n",
       "      <td>Becoming a Data Head: How to Think, Speak and ...</td>\n",
       "      <td>24</td>\n",
       "      <td>209</td>\n",
       "      <td>https://m.media-amazon.com/images/I/51dY5RkvW6...</td>\n",
       "    </tr>\n",
       "    <tr>\n",
       "      <th>1</th>\n",
       "      <td>NaN</td>\n",
       "      <td>The Four Agreements (Illustrated Edition) A Pr...</td>\n",
       "      <td>27</td>\n",
       "      <td>88,941</td>\n",
       "      <td>https://m.media-amazon.com/images/I/91ryfmRier...</td>\n",
       "    </tr>\n",
       "    <tr>\n",
       "      <th>2</th>\n",
       "      <td>Hal Harvey</td>\n",
       "      <td>NaN</td>\n",
       "      <td>28</td>\n",
       "      <td>18</td>\n",
       "      <td>https://m.media-amazon.com/images/I/716QwZRD3e...</td>\n",
       "    </tr>\n",
       "    <tr>\n",
       "      <th>3</th>\n",
       "      <td>Ryan O'Hanlon</td>\n",
       "      <td>Net Gains: Inside the Beautiful Game’s Analyti...</td>\n",
       "      <td>27</td>\n",
       "      <td>27</td>\n",
       "      <td>https://m.media-amazon.com/images/I/61k00WsIsj...</td>\n",
       "    </tr>\n",
       "    <tr>\n",
       "      <th>4</th>\n",
       "      <td>Stanley Chiang</td>\n",
       "      <td>NaN</td>\n",
       "      <td>26</td>\n",
       "      <td>118</td>\n",
       "      <td>https://m.media-amazon.com/images/I/61AzwN+jyw...</td>\n",
       "    </tr>\n",
       "    <tr>\n",
       "      <th>...</th>\n",
       "      <td>...</td>\n",
       "      <td>...</td>\n",
       "      <td>...</td>\n",
       "      <td>...</td>\n",
       "      <td>...</td>\n",
       "    </tr>\n",
       "    <tr>\n",
       "      <th>784</th>\n",
       "      <td>Rick Sherman</td>\n",
       "      <td>Business Intelligence Guidebook: From Data Int...</td>\n",
       "      <td>31</td>\n",
       "      <td>98</td>\n",
       "      <td>https://m.media-amazon.com/images/I/51BvOBcIDV...</td>\n",
       "    </tr>\n",
       "    <tr>\n",
       "      <th>785</th>\n",
       "      <td>Kenneth Cukier</td>\n",
       "      <td>NaN</td>\n",
       "      <td>18</td>\n",
       "      <td>143</td>\n",
       "      <td>https://m.media-amazon.com/images/I/71UZqltaRa...</td>\n",
       "    </tr>\n",
       "    <tr>\n",
       "      <th>786</th>\n",
       "      <td>Stefan Papp</td>\n",
       "      <td>Data Scientist Lined Notebook Data Science Jou...</td>\n",
       "      <td>7</td>\n",
       "      <td>1</td>\n",
       "      <td>https://m.media-amazon.com/images/I/61nQ117vbz...</td>\n",
       "    </tr>\n",
       "    <tr>\n",
       "      <th>787</th>\n",
       "      <td>David Spiegelhalter</td>\n",
       "      <td>The Art of Statistics: How to Learn from Data</td>\n",
       "      <td>18</td>\n",
       "      <td>2,906</td>\n",
       "      <td>https://m.media-amazon.com/images/I/91AxFQKFxW...</td>\n",
       "    </tr>\n",
       "    <tr>\n",
       "      <th>788</th>\n",
       "      <td>Debra Paul</td>\n",
       "      <td>Business Analysis</td>\n",
       "      <td>51</td>\n",
       "      <td>250</td>\n",
       "      <td>https://m.media-amazon.com/images/I/61H411r1gh...</td>\n",
       "    </tr>\n",
       "  </tbody>\n",
       "</table>\n",
       "<p>789 rows × 5 columns</p>\n",
       "</div>"
      ],
      "text/plain": [
       "                  author                                       product_name  \\\n",
       "0         Alex J. Gutman  Becoming a Data Head: How to Think, Speak and ...   \n",
       "1                    NaN  The Four Agreements (Illustrated Edition) A Pr...   \n",
       "2             Hal Harvey                                                NaN   \n",
       "3          Ryan O'Hanlon  Net Gains: Inside the Beautiful Game’s Analyti...   \n",
       "4         Stanley Chiang                                                NaN   \n",
       "..                   ...                                                ...   \n",
       "784         Rick Sherman  Business Intelligence Guidebook: From Data Int...   \n",
       "785       Kenneth Cukier                                                NaN   \n",
       "786          Stefan Papp  Data Scientist Lined Notebook Data Science Jou...   \n",
       "787  David Spiegelhalter      The Art of Statistics: How to Learn from Data   \n",
       "788           Debra Paul                                  Business Analysis   \n",
       "\n",
       "    product_price product_reviews  \\\n",
       "0              24             209   \n",
       "1              27          88,941   \n",
       "2              28              18   \n",
       "3              27              27   \n",
       "4              26             118   \n",
       "..            ...             ...   \n",
       "784            31              98   \n",
       "785            18             143   \n",
       "786             7               1   \n",
       "787            18           2,906   \n",
       "788            51             250   \n",
       "\n",
       "                                           product_url  \n",
       "0    https://m.media-amazon.com/images/I/51dY5RkvW6...  \n",
       "1    https://m.media-amazon.com/images/I/91ryfmRier...  \n",
       "2    https://m.media-amazon.com/images/I/716QwZRD3e...  \n",
       "3    https://m.media-amazon.com/images/I/61k00WsIsj...  \n",
       "4    https://m.media-amazon.com/images/I/61AzwN+jyw...  \n",
       "..                                                 ...  \n",
       "784  https://m.media-amazon.com/images/I/51BvOBcIDV...  \n",
       "785  https://m.media-amazon.com/images/I/71UZqltaRa...  \n",
       "786  https://m.media-amazon.com/images/I/61nQ117vbz...  \n",
       "787  https://m.media-amazon.com/images/I/91AxFQKFxW...  \n",
       "788  https://m.media-amazon.com/images/I/61H411r1gh...  \n",
       "\n",
       "[789 rows x 5 columns]"
      ]
     },
     "execution_count": 3,
     "metadata": {},
     "output_type": "execute_result"
    }
   ],
   "source": [
    "data = pd.read_csv(r'C:\\Users\\user\\Desktop\\Amazon Data Extraction Project Multiple Pages\\AmazonScrapy\\products.csv')\n",
    "data"
   ]
  },
  {
   "cell_type": "markdown",
   "id": "4b9c59ce",
   "metadata": {},
   "source": [
    "# 3. Detecting nulls"
   ]
  },
  {
   "cell_type": "code",
   "execution_count": 4,
   "id": "f0929a7b",
   "metadata": {},
   "outputs": [
    {
     "data": {
      "text/plain": [
       "author             490\n",
       "product_name       576\n",
       "product_price      428\n",
       "product_reviews    429\n",
       "product_url        428\n",
       "dtype: int64"
      ]
     },
     "execution_count": 4,
     "metadata": {},
     "output_type": "execute_result"
    }
   ],
   "source": [
    "data.isnull().sum()"
   ]
  },
  {
   "cell_type": "markdown",
   "id": "700af05e",
   "metadata": {},
   "source": [
    "# 4. Handling nulls & duplicated values"
   ]
  },
  {
   "cell_type": "code",
   "execution_count": 5,
   "id": "f4634050",
   "metadata": {},
   "outputs": [
    {
     "data": {
      "text/html": [
       "<div>\n",
       "<style scoped>\n",
       "    .dataframe tbody tr th:only-of-type {\n",
       "        vertical-align: middle;\n",
       "    }\n",
       "\n",
       "    .dataframe tbody tr th {\n",
       "        vertical-align: top;\n",
       "    }\n",
       "\n",
       "    .dataframe thead th {\n",
       "        text-align: right;\n",
       "    }\n",
       "</style>\n",
       "<table border=\"1\" class=\"dataframe\">\n",
       "  <thead>\n",
       "    <tr style=\"text-align: right;\">\n",
       "      <th></th>\n",
       "      <th>author</th>\n",
       "      <th>product_name</th>\n",
       "      <th>product_price</th>\n",
       "      <th>product_reviews</th>\n",
       "      <th>product_url</th>\n",
       "    </tr>\n",
       "  </thead>\n",
       "  <tbody>\n",
       "    <tr>\n",
       "      <th>0</th>\n",
       "      <td>Alex J. Gutman</td>\n",
       "      <td>Becoming a Data Head: How to Think, Speak and ...</td>\n",
       "      <td>24</td>\n",
       "      <td>209</td>\n",
       "      <td>https://m.media-amazon.com/images/I/51dY5RkvW6...</td>\n",
       "    </tr>\n",
       "    <tr>\n",
       "      <th>3</th>\n",
       "      <td>Ryan O'Hanlon</td>\n",
       "      <td>Net Gains: Inside the Beautiful Game’s Analyti...</td>\n",
       "      <td>27</td>\n",
       "      <td>27</td>\n",
       "      <td>https://m.media-amazon.com/images/I/61k00WsIsj...</td>\n",
       "    </tr>\n",
       "    <tr>\n",
       "      <th>5</th>\n",
       "      <td>Wayne Winston</td>\n",
       "      <td>Microsoft Excel Data Analysis and Business Mod...</td>\n",
       "      <td>10</td>\n",
       "      <td>423</td>\n",
       "      <td>https://m.media-amazon.com/images/I/81FoeAfUIX...</td>\n",
       "    </tr>\n",
       "    <tr>\n",
       "      <th>6</th>\n",
       "      <td>Nick Singh</td>\n",
       "      <td>Ace the Data Science Interview: 201 Real Inter...</td>\n",
       "      <td>38</td>\n",
       "      <td>695</td>\n",
       "      <td>https://m.media-amazon.com/images/I/61Yd6YXufG...</td>\n",
       "    </tr>\n",
       "    <tr>\n",
       "      <th>7</th>\n",
       "      <td>Matt Goldwasser</td>\n",
       "      <td>SQL for Data Analytics: Perform fast and effic...</td>\n",
       "      <td>27</td>\n",
       "      <td>234</td>\n",
       "      <td>https://m.media-amazon.com/images/I/719zBDnZtX...</td>\n",
       "    </tr>\n",
       "    <tr>\n",
       "      <th>...</th>\n",
       "      <td>...</td>\n",
       "      <td>...</td>\n",
       "      <td>...</td>\n",
       "      <td>...</td>\n",
       "      <td>...</td>\n",
       "    </tr>\n",
       "    <tr>\n",
       "      <th>781</th>\n",
       "      <td>Nicholas Kelly</td>\n",
       "      <td>Delivering Data Analytics: A Step-By-Step Guid...</td>\n",
       "      <td>34</td>\n",
       "      <td>19</td>\n",
       "      <td>https://m.media-amazon.com/images/I/81E6AdHoVx...</td>\n",
       "    </tr>\n",
       "    <tr>\n",
       "      <th>784</th>\n",
       "      <td>Rick Sherman</td>\n",
       "      <td>Business Intelligence Guidebook: From Data Int...</td>\n",
       "      <td>31</td>\n",
       "      <td>98</td>\n",
       "      <td>https://m.media-amazon.com/images/I/51BvOBcIDV...</td>\n",
       "    </tr>\n",
       "    <tr>\n",
       "      <th>786</th>\n",
       "      <td>Stefan Papp</td>\n",
       "      <td>Data Scientist Lined Notebook Data Science Jou...</td>\n",
       "      <td>7</td>\n",
       "      <td>1</td>\n",
       "      <td>https://m.media-amazon.com/images/I/61nQ117vbz...</td>\n",
       "    </tr>\n",
       "    <tr>\n",
       "      <th>787</th>\n",
       "      <td>David Spiegelhalter</td>\n",
       "      <td>The Art of Statistics: How to Learn from Data</td>\n",
       "      <td>18</td>\n",
       "      <td>2,906</td>\n",
       "      <td>https://m.media-amazon.com/images/I/91AxFQKFxW...</td>\n",
       "    </tr>\n",
       "    <tr>\n",
       "      <th>788</th>\n",
       "      <td>Debra Paul</td>\n",
       "      <td>Business Analysis</td>\n",
       "      <td>51</td>\n",
       "      <td>250</td>\n",
       "      <td>https://m.media-amazon.com/images/I/61H411r1gh...</td>\n",
       "    </tr>\n",
       "  </tbody>\n",
       "</table>\n",
       "<p>180 rows × 5 columns</p>\n",
       "</div>"
      ],
      "text/plain": [
       "                  author                                       product_name  \\\n",
       "0         Alex J. Gutman  Becoming a Data Head: How to Think, Speak and ...   \n",
       "3          Ryan O'Hanlon  Net Gains: Inside the Beautiful Game’s Analyti...   \n",
       "5          Wayne Winston  Microsoft Excel Data Analysis and Business Mod...   \n",
       "6             Nick Singh  Ace the Data Science Interview: 201 Real Inter...   \n",
       "7        Matt Goldwasser  SQL for Data Analytics: Perform fast and effic...   \n",
       "..                   ...                                                ...   \n",
       "781       Nicholas Kelly  Delivering Data Analytics: A Step-By-Step Guid...   \n",
       "784         Rick Sherman  Business Intelligence Guidebook: From Data Int...   \n",
       "786          Stefan Papp  Data Scientist Lined Notebook Data Science Jou...   \n",
       "787  David Spiegelhalter      The Art of Statistics: How to Learn from Data   \n",
       "788           Debra Paul                                  Business Analysis   \n",
       "\n",
       "    product_price product_reviews  \\\n",
       "0              24             209   \n",
       "3              27              27   \n",
       "5              10             423   \n",
       "6              38             695   \n",
       "7              27             234   \n",
       "..            ...             ...   \n",
       "781            34              19   \n",
       "784            31              98   \n",
       "786             7               1   \n",
       "787            18           2,906   \n",
       "788            51             250   \n",
       "\n",
       "                                           product_url  \n",
       "0    https://m.media-amazon.com/images/I/51dY5RkvW6...  \n",
       "3    https://m.media-amazon.com/images/I/61k00WsIsj...  \n",
       "5    https://m.media-amazon.com/images/I/81FoeAfUIX...  \n",
       "6    https://m.media-amazon.com/images/I/61Yd6YXufG...  \n",
       "7    https://m.media-amazon.com/images/I/719zBDnZtX...  \n",
       "..                                                 ...  \n",
       "781  https://m.media-amazon.com/images/I/81E6AdHoVx...  \n",
       "784  https://m.media-amazon.com/images/I/51BvOBcIDV...  \n",
       "786  https://m.media-amazon.com/images/I/61nQ117vbz...  \n",
       "787  https://m.media-amazon.com/images/I/91AxFQKFxW...  \n",
       "788  https://m.media-amazon.com/images/I/61H411r1gh...  \n",
       "\n",
       "[180 rows x 5 columns]"
      ]
     },
     "execution_count": 5,
     "metadata": {},
     "output_type": "execute_result"
    }
   ],
   "source": [
    "data.dropna(inplace = True)\n",
    "data"
   ]
  },
  {
   "cell_type": "markdown",
   "id": "cbc325a8",
   "metadata": {},
   "source": [
    "# 5. Renaming columns"
   ]
  },
  {
   "cell_type": "code",
   "execution_count": 6,
   "id": "0cc29e67",
   "metadata": {},
   "outputs": [
    {
     "data": {
      "text/html": [
       "<div>\n",
       "<style scoped>\n",
       "    .dataframe tbody tr th:only-of-type {\n",
       "        vertical-align: middle;\n",
       "    }\n",
       "\n",
       "    .dataframe tbody tr th {\n",
       "        vertical-align: top;\n",
       "    }\n",
       "\n",
       "    .dataframe thead th {\n",
       "        text-align: right;\n",
       "    }\n",
       "</style>\n",
       "<table border=\"1\" class=\"dataframe\">\n",
       "  <thead>\n",
       "    <tr style=\"text-align: right;\">\n",
       "      <th></th>\n",
       "      <th>Author</th>\n",
       "      <th>Title</th>\n",
       "      <th>Price</th>\n",
       "      <th>Reviews</th>\n",
       "      <th>Url</th>\n",
       "    </tr>\n",
       "  </thead>\n",
       "  <tbody>\n",
       "    <tr>\n",
       "      <th>0</th>\n",
       "      <td>Alex J. Gutman</td>\n",
       "      <td>Becoming a Data Head: How to Think, Speak and ...</td>\n",
       "      <td>24</td>\n",
       "      <td>209</td>\n",
       "      <td>https://m.media-amazon.com/images/I/51dY5RkvW6...</td>\n",
       "    </tr>\n",
       "    <tr>\n",
       "      <th>3</th>\n",
       "      <td>Ryan O'Hanlon</td>\n",
       "      <td>Net Gains: Inside the Beautiful Game’s Analyti...</td>\n",
       "      <td>27</td>\n",
       "      <td>27</td>\n",
       "      <td>https://m.media-amazon.com/images/I/61k00WsIsj...</td>\n",
       "    </tr>\n",
       "    <tr>\n",
       "      <th>5</th>\n",
       "      <td>Wayne Winston</td>\n",
       "      <td>Microsoft Excel Data Analysis and Business Mod...</td>\n",
       "      <td>10</td>\n",
       "      <td>423</td>\n",
       "      <td>https://m.media-amazon.com/images/I/81FoeAfUIX...</td>\n",
       "    </tr>\n",
       "    <tr>\n",
       "      <th>6</th>\n",
       "      <td>Nick Singh</td>\n",
       "      <td>Ace the Data Science Interview: 201 Real Inter...</td>\n",
       "      <td>38</td>\n",
       "      <td>695</td>\n",
       "      <td>https://m.media-amazon.com/images/I/61Yd6YXufG...</td>\n",
       "    </tr>\n",
       "    <tr>\n",
       "      <th>7</th>\n",
       "      <td>Matt Goldwasser</td>\n",
       "      <td>SQL for Data Analytics: Perform fast and effic...</td>\n",
       "      <td>27</td>\n",
       "      <td>234</td>\n",
       "      <td>https://m.media-amazon.com/images/I/719zBDnZtX...</td>\n",
       "    </tr>\n",
       "  </tbody>\n",
       "</table>\n",
       "</div>"
      ],
      "text/plain": [
       "            Author                                              Title Price  \\\n",
       "0   Alex J. Gutman  Becoming a Data Head: How to Think, Speak and ...    24   \n",
       "3    Ryan O'Hanlon  Net Gains: Inside the Beautiful Game’s Analyti...    27   \n",
       "5    Wayne Winston  Microsoft Excel Data Analysis and Business Mod...    10   \n",
       "6       Nick Singh  Ace the Data Science Interview: 201 Real Inter...    38   \n",
       "7  Matt Goldwasser  SQL for Data Analytics: Perform fast and effic...    27   \n",
       "\n",
       "  Reviews                                                Url  \n",
       "0     209  https://m.media-amazon.com/images/I/51dY5RkvW6...  \n",
       "3      27  https://m.media-amazon.com/images/I/61k00WsIsj...  \n",
       "5     423  https://m.media-amazon.com/images/I/81FoeAfUIX...  \n",
       "6     695  https://m.media-amazon.com/images/I/61Yd6YXufG...  \n",
       "7     234  https://m.media-amazon.com/images/I/719zBDnZtX...  "
      ]
     },
     "execution_count": 6,
     "metadata": {},
     "output_type": "execute_result"
    }
   ],
   "source": [
    "data = data.rename(columns={'author': 'Author','product_name': 'Title','product_price': 'Price','product_reviews': 'Reviews', 'product_url': 'Url'})\n",
    "ColumnsList = ['Title','Author','Price','Reviews','Url']\n",
    "data.head()"
   ]
  },
  {
   "cell_type": "markdown",
   "id": "ecf12a83",
   "metadata": {},
   "source": [
    "# 6. Convert dtype 'object' to 'int' to analyze reviews & price column as a numerical value"
   ]
  },
  {
   "cell_type": "code",
   "execution_count": 7,
   "id": "926e796e",
   "metadata": {},
   "outputs": [
    {
     "data": {
      "text/plain": [
       "Author     object\n",
       "Title      object\n",
       "Price      object\n",
       "Reviews    object\n",
       "Url        object\n",
       "dtype: object"
      ]
     },
     "execution_count": 7,
     "metadata": {},
     "output_type": "execute_result"
    }
   ],
   "source": [
    "data.dtypes"
   ]
  },
  {
   "cell_type": "code",
   "execution_count": 8,
   "id": "54a69a59",
   "metadata": {},
   "outputs": [
    {
     "data": {
      "text/plain": [
       "Author     object\n",
       "Title      object\n",
       "Price       int64\n",
       "Reviews     int64\n",
       "Url        object\n",
       "dtype: object"
      ]
     },
     "execution_count": 8,
     "metadata": {},
     "output_type": "execute_result"
    }
   ],
   "source": [
    "data[\"Reviews\"] = pd.to_numeric(data[\"Reviews\"], errors='coerce').fillna(0, downcast='infer')\n",
    "data[\"Price\"] = pd.to_numeric(data[\"Price\"], errors='coerce').fillna(0, downcast='infer')\n",
    "data.dtypes"
   ]
  },
  {
   "cell_type": "markdown",
   "id": "302e5cbb",
   "metadata": {},
   "source": [
    "# 7. Top 10 books with a title containing \"Data Science\" including the highest reviews and lowest price"
   ]
  },
  {
   "cell_type": "code",
   "execution_count": 9,
   "id": "b30a0cb7",
   "metadata": {},
   "outputs": [
    {
     "data": {
      "text/html": [
       "<div>\n",
       "<style scoped>\n",
       "    .dataframe tbody tr th:only-of-type {\n",
       "        vertical-align: middle;\n",
       "    }\n",
       "\n",
       "    .dataframe tbody tr th {\n",
       "        vertical-align: top;\n",
       "    }\n",
       "\n",
       "    .dataframe thead th {\n",
       "        text-align: right;\n",
       "    }\n",
       "</style>\n",
       "<table border=\"1\" class=\"dataframe\">\n",
       "  <thead>\n",
       "    <tr style=\"text-align: right;\">\n",
       "      <th></th>\n",
       "      <th>Author</th>\n",
       "      <th>Title</th>\n",
       "      <th>Price</th>\n",
       "      <th>Reviews</th>\n",
       "      <th>Url</th>\n",
       "    </tr>\n",
       "  </thead>\n",
       "  <tbody>\n",
       "    <tr>\n",
       "      <th>6</th>\n",
       "      <td>Nick Singh</td>\n",
       "      <td>Ace the Data Science Interview: 201 Real Inter...</td>\n",
       "      <td>38</td>\n",
       "      <td>695</td>\n",
       "      <td>https://m.media-amazon.com/images/I/61Yd6YXufG...</td>\n",
       "    </tr>\n",
       "    <tr>\n",
       "      <th>400</th>\n",
       "      <td>Nick Singh</td>\n",
       "      <td>Ace the Data Science Interview: 201 Real Inter...</td>\n",
       "      <td>38</td>\n",
       "      <td>695</td>\n",
       "      <td>https://m.media-amazon.com/images/I/61Yd6YXufG...</td>\n",
       "    </tr>\n",
       "    <tr>\n",
       "      <th>10</th>\n",
       "      <td>Dursun Delen</td>\n",
       "      <td>Business Intelligence, Analytics, and Data Sci...</td>\n",
       "      <td>33</td>\n",
       "      <td>280</td>\n",
       "      <td>https://m.media-amazon.com/images/I/91Zx6bc7y2...</td>\n",
       "    </tr>\n",
       "    <tr>\n",
       "      <th>0</th>\n",
       "      <td>Alex J. Gutman</td>\n",
       "      <td>Becoming a Data Head: How to Think, Speak and ...</td>\n",
       "      <td>24</td>\n",
       "      <td>209</td>\n",
       "      <td>https://m.media-amazon.com/images/I/51dY5RkvW6...</td>\n",
       "    </tr>\n",
       "    <tr>\n",
       "      <th>395</th>\n",
       "      <td>Alex J. Gutman</td>\n",
       "      <td>Becoming a Data Head: How to Think, Speak and ...</td>\n",
       "      <td>24</td>\n",
       "      <td>209</td>\n",
       "      <td>https://m.media-amazon.com/images/I/51dY5RkvW6...</td>\n",
       "    </tr>\n",
       "    <tr>\n",
       "      <th>416</th>\n",
       "      <td>Chris Fregly</td>\n",
       "      <td>Data Science on AWS: Implementing End-to-End, ...</td>\n",
       "      <td>31</td>\n",
       "      <td>159</td>\n",
       "      <td>https://m.media-amazon.com/images/I/81k33dFBLt...</td>\n",
       "    </tr>\n",
       "    <tr>\n",
       "      <th>413</th>\n",
       "      <td>Julian James McKinnon</td>\n",
       "      <td>Computer Programming Crash Course: 7 Books in ...</td>\n",
       "      <td>33</td>\n",
       "      <td>134</td>\n",
       "      <td>https://m.media-amazon.com/images/I/71zkPeFMA4...</td>\n",
       "    </tr>\n",
       "    <tr>\n",
       "      <th>686</th>\n",
       "      <td>(13 used &amp; new offers)</td>\n",
       "      <td>Introducing Data Science: Big Data, Machine Le...</td>\n",
       "      <td>42</td>\n",
       "      <td>98</td>\n",
       "      <td>https://m.media-amazon.com/images/I/71zG6q0qpi...</td>\n",
       "    </tr>\n",
       "    <tr>\n",
       "      <th>8</th>\n",
       "      <td>Yoon Hyup Hwang</td>\n",
       "      <td>Hands-On Data Science for Marketing: Improve y...</td>\n",
       "      <td>45</td>\n",
       "      <td>68</td>\n",
       "      <td>https://m.media-amazon.com/images/I/719TiXxn3r...</td>\n",
       "    </tr>\n",
       "    <tr>\n",
       "      <th>434</th>\n",
       "      <td>Nina Zumel</td>\n",
       "      <td>Practical Data Science with R</td>\n",
       "      <td>49</td>\n",
       "      <td>64</td>\n",
       "      <td>https://m.media-amazon.com/images/I/71v3KRNJq3...</td>\n",
       "    </tr>\n",
       "  </tbody>\n",
       "</table>\n",
       "</div>"
      ],
      "text/plain": [
       "                     Author  \\\n",
       "6                Nick Singh   \n",
       "400              Nick Singh   \n",
       "10             Dursun Delen   \n",
       "0            Alex J. Gutman   \n",
       "395          Alex J. Gutman   \n",
       "416            Chris Fregly   \n",
       "413   Julian James McKinnon   \n",
       "686  (13 used & new offers)   \n",
       "8           Yoon Hyup Hwang   \n",
       "434              Nina Zumel   \n",
       "\n",
       "                                                 Title  Price  Reviews  \\\n",
       "6    Ace the Data Science Interview: 201 Real Inter...     38      695   \n",
       "400  Ace the Data Science Interview: 201 Real Inter...     38      695   \n",
       "10   Business Intelligence, Analytics, and Data Sci...     33      280   \n",
       "0    Becoming a Data Head: How to Think, Speak and ...     24      209   \n",
       "395  Becoming a Data Head: How to Think, Speak and ...     24      209   \n",
       "416  Data Science on AWS: Implementing End-to-End, ...     31      159   \n",
       "413  Computer Programming Crash Course: 7 Books in ...     33      134   \n",
       "686  Introducing Data Science: Big Data, Machine Le...     42       98   \n",
       "8    Hands-On Data Science for Marketing: Improve y...     45       68   \n",
       "434                      Practical Data Science with R     49       64   \n",
       "\n",
       "                                                   Url  \n",
       "6    https://m.media-amazon.com/images/I/61Yd6YXufG...  \n",
       "400  https://m.media-amazon.com/images/I/61Yd6YXufG...  \n",
       "10   https://m.media-amazon.com/images/I/91Zx6bc7y2...  \n",
       "0    https://m.media-amazon.com/images/I/51dY5RkvW6...  \n",
       "395  https://m.media-amazon.com/images/I/51dY5RkvW6...  \n",
       "416  https://m.media-amazon.com/images/I/81k33dFBLt...  \n",
       "413  https://m.media-amazon.com/images/I/71zkPeFMA4...  \n",
       "686  https://m.media-amazon.com/images/I/71zG6q0qpi...  \n",
       "8    https://m.media-amazon.com/images/I/719TiXxn3r...  \n",
       "434  https://m.media-amazon.com/images/I/71v3KRNJq3...  "
      ]
     },
     "execution_count": 9,
     "metadata": {},
     "output_type": "execute_result"
    }
   ],
   "source": [
    "DtataScience_Books= data[data['Title'].str.contains('Data Science')]\n",
    "Lower_price_books = DtataScience_Books.nlargest(10, ['Reviews', 'Price'])\n",
    "Lower_price_books"
   ]
  },
  {
   "cell_type": "markdown",
   "id": "d48f06eb",
   "metadata": {},
   "source": [
    "# 8. Book title contains \"Data Analytics\""
   ]
  },
  {
   "cell_type": "code",
   "execution_count": 10,
   "id": "a386af8f",
   "metadata": {},
   "outputs": [
    {
     "data": {
      "text/html": [
       "<div>\n",
       "<style scoped>\n",
       "    .dataframe tbody tr th:only-of-type {\n",
       "        vertical-align: middle;\n",
       "    }\n",
       "\n",
       "    .dataframe tbody tr th {\n",
       "        vertical-align: top;\n",
       "    }\n",
       "\n",
       "    .dataframe thead th {\n",
       "        text-align: right;\n",
       "    }\n",
       "</style>\n",
       "<table border=\"1\" class=\"dataframe\">\n",
       "  <thead>\n",
       "    <tr style=\"text-align: right;\">\n",
       "      <th></th>\n",
       "      <th>Author</th>\n",
       "      <th>Title</th>\n",
       "      <th>Price</th>\n",
       "      <th>Reviews</th>\n",
       "      <th>Url</th>\n",
       "    </tr>\n",
       "  </thead>\n",
       "  <tbody>\n",
       "    <tr>\n",
       "      <th>7</th>\n",
       "      <td>Matt Goldwasser</td>\n",
       "      <td>SQL for Data Analytics: Perform fast and effic...</td>\n",
       "      <td>27</td>\n",
       "      <td>234</td>\n",
       "      <td>https://m.media-amazon.com/images/I/719zBDnZtX...</td>\n",
       "    </tr>\n",
       "    <tr>\n",
       "      <th>272</th>\n",
       "      <td>(10 used &amp; new offers)</td>\n",
       "      <td>Big Data Analytics for Time-Critical Mobility ...</td>\n",
       "      <td>167</td>\n",
       "      <td>1</td>\n",
       "      <td>https://m.media-amazon.com/images/I/616CrRKfua...</td>\n",
       "    </tr>\n",
       "    <tr>\n",
       "      <th>309</th>\n",
       "      <td>Herbert Jones</td>\n",
       "      <td>Data Analytics: An Essential Beginner’s Guide ...</td>\n",
       "      <td>13</td>\n",
       "      <td>17</td>\n",
       "      <td>https://m.media-amazon.com/images/I/71cbRSQW63...</td>\n",
       "    </tr>\n",
       "    <tr>\n",
       "      <th>337</th>\n",
       "      <td>Seth Stephens-Davidowitz</td>\n",
       "      <td>Big Data Analytics</td>\n",
       "      <td>7</td>\n",
       "      <td>1</td>\n",
       "      <td>https://m.media-amazon.com/images/I/61PsVFO9WY...</td>\n",
       "    </tr>\n",
       "    <tr>\n",
       "      <th>351</th>\n",
       "      <td>Chanchal Chatterjee</td>\n",
       "      <td>Introduction to Data Analytics for Accounting ...</td>\n",
       "      <td>45</td>\n",
       "      <td>2</td>\n",
       "      <td>https://m.media-amazon.com/images/I/718JDFKNAB...</td>\n",
       "    </tr>\n",
       "    <tr>\n",
       "      <th>361</th>\n",
       "      <td>Jonathan Schwabish</td>\n",
       "      <td>Fundamentals of Data Analytics: With a View to...</td>\n",
       "      <td>21</td>\n",
       "      <td>263</td>\n",
       "      <td>https://m.media-amazon.com/images/I/51BOxIeRTD...</td>\n",
       "    </tr>\n",
       "    <tr>\n",
       "      <th>392</th>\n",
       "      <td>Ann Jackson</td>\n",
       "      <td>Tableau Strategies: Solving Real, Practical Pr...</td>\n",
       "      <td>29</td>\n",
       "      <td>32</td>\n",
       "      <td>https://m.media-amazon.com/images/I/81nxllSFh2...</td>\n",
       "    </tr>\n",
       "    <tr>\n",
       "      <th>407</th>\n",
       "      <td>Ann Jackson</td>\n",
       "      <td>Tableau Strategies: Solving Real, Practical Pr...</td>\n",
       "      <td>29</td>\n",
       "      <td>32</td>\n",
       "      <td>https://m.media-amazon.com/images/I/81nxllSFh2...</td>\n",
       "    </tr>\n",
       "    <tr>\n",
       "      <th>445</th>\n",
       "      <td>Paul Cerrato</td>\n",
       "      <td>Reinventing Clinical Decision Support: Data An...</td>\n",
       "      <td>69</td>\n",
       "      <td>9</td>\n",
       "      <td>https://m.media-amazon.com/images/I/81fowytG5q...</td>\n",
       "    </tr>\n",
       "    <tr>\n",
       "      <th>449</th>\n",
       "      <td>Vijay Kotu</td>\n",
       "      <td>DATA MINING, BIG DATA ANALYTICS AND DEEP LEARN...</td>\n",
       "      <td>4</td>\n",
       "      <td>2</td>\n",
       "      <td>https://m.media-amazon.com/images/I/71VwzlIHU+...</td>\n",
       "    </tr>\n",
       "    <tr>\n",
       "      <th>678</th>\n",
       "      <td>Benjamin Bengfort</td>\n",
       "      <td>Data Analytics with Hadoop: An Introduction fo...</td>\n",
       "      <td>27</td>\n",
       "      <td>31</td>\n",
       "      <td>https://m.media-amazon.com/images/I/91mjmF9QAV...</td>\n",
       "    </tr>\n",
       "    <tr>\n",
       "      <th>705</th>\n",
       "      <td>Herbert Jones</td>\n",
       "      <td>Data Analytics: An Essential Beginner’s Guide ...</td>\n",
       "      <td>13</td>\n",
       "      <td>17</td>\n",
       "      <td>https://m.media-amazon.com/images/I/71cbRSQW63...</td>\n",
       "    </tr>\n",
       "    <tr>\n",
       "      <th>752</th>\n",
       "      <td>(24 used &amp; new offers)</td>\n",
       "      <td>A General Introduction to Data Analytics</td>\n",
       "      <td>77</td>\n",
       "      <td>5</td>\n",
       "      <td>https://m.media-amazon.com/images/I/61wjVS2rag...</td>\n",
       "    </tr>\n",
       "    <tr>\n",
       "      <th>755</th>\n",
       "      <td>Michiel Rozema</td>\n",
       "      <td>Fundamentals of Data Analytics: With a View to...</td>\n",
       "      <td>21</td>\n",
       "      <td>56</td>\n",
       "      <td>https://m.media-amazon.com/images/I/51BOxIeRTD...</td>\n",
       "    </tr>\n",
       "    <tr>\n",
       "      <th>781</th>\n",
       "      <td>Nicholas Kelly</td>\n",
       "      <td>Delivering Data Analytics: A Step-By-Step Guid...</td>\n",
       "      <td>34</td>\n",
       "      <td>19</td>\n",
       "      <td>https://m.media-amazon.com/images/I/81E6AdHoVx...</td>\n",
       "    </tr>\n",
       "  </tbody>\n",
       "</table>\n",
       "</div>"
      ],
      "text/plain": [
       "                       Author  \\\n",
       "7             Matt Goldwasser   \n",
       "272    (10 used & new offers)   \n",
       "309             Herbert Jones   \n",
       "337  Seth Stephens-Davidowitz   \n",
       "351       Chanchal Chatterjee   \n",
       "361        Jonathan Schwabish   \n",
       "392               Ann Jackson   \n",
       "407               Ann Jackson   \n",
       "445              Paul Cerrato   \n",
       "449                Vijay Kotu   \n",
       "678         Benjamin Bengfort   \n",
       "705             Herbert Jones   \n",
       "752    (24 used & new offers)   \n",
       "755            Michiel Rozema   \n",
       "781            Nicholas Kelly   \n",
       "\n",
       "                                                 Title  Price  Reviews  \\\n",
       "7    SQL for Data Analytics: Perform fast and effic...     27      234   \n",
       "272  Big Data Analytics for Time-Critical Mobility ...    167        1   \n",
       "309  Data Analytics: An Essential Beginner’s Guide ...     13       17   \n",
       "337                                 Big Data Analytics      7        1   \n",
       "351  Introduction to Data Analytics for Accounting ...     45        2   \n",
       "361  Fundamentals of Data Analytics: With a View to...     21      263   \n",
       "392  Tableau Strategies: Solving Real, Practical Pr...     29       32   \n",
       "407  Tableau Strategies: Solving Real, Practical Pr...     29       32   \n",
       "445  Reinventing Clinical Decision Support: Data An...     69        9   \n",
       "449  DATA MINING, BIG DATA ANALYTICS AND DEEP LEARN...      4        2   \n",
       "678  Data Analytics with Hadoop: An Introduction fo...     27       31   \n",
       "705  Data Analytics: An Essential Beginner’s Guide ...     13       17   \n",
       "752           A General Introduction to Data Analytics     77        5   \n",
       "755  Fundamentals of Data Analytics: With a View to...     21       56   \n",
       "781  Delivering Data Analytics: A Step-By-Step Guid...     34       19   \n",
       "\n",
       "                                                   Url  \n",
       "7    https://m.media-amazon.com/images/I/719zBDnZtX...  \n",
       "272  https://m.media-amazon.com/images/I/616CrRKfua...  \n",
       "309  https://m.media-amazon.com/images/I/71cbRSQW63...  \n",
       "337  https://m.media-amazon.com/images/I/61PsVFO9WY...  \n",
       "351  https://m.media-amazon.com/images/I/718JDFKNAB...  \n",
       "361  https://m.media-amazon.com/images/I/51BOxIeRTD...  \n",
       "392  https://m.media-amazon.com/images/I/81nxllSFh2...  \n",
       "407  https://m.media-amazon.com/images/I/81nxllSFh2...  \n",
       "445  https://m.media-amazon.com/images/I/81fowytG5q...  \n",
       "449  https://m.media-amazon.com/images/I/71VwzlIHU+...  \n",
       "678  https://m.media-amazon.com/images/I/91mjmF9QAV...  \n",
       "705  https://m.media-amazon.com/images/I/71cbRSQW63...  \n",
       "752  https://m.media-amazon.com/images/I/61wjVS2rag...  \n",
       "755  https://m.media-amazon.com/images/I/51BOxIeRTD...  \n",
       "781  https://m.media-amazon.com/images/I/81E6AdHoVx...  "
      ]
     },
     "execution_count": 10,
     "metadata": {},
     "output_type": "execute_result"
    }
   ],
   "source": [
    "data[data['Title'].str.contains('Data Analytics',case = False)]"
   ]
  },
  {
   "cell_type": "markdown",
   "id": "264a19ad",
   "metadata": {},
   "source": [
    "# 9. Books having >=200 reviews"
   ]
  },
  {
   "cell_type": "code",
   "execution_count": 11,
   "id": "b8fac94b",
   "metadata": {},
   "outputs": [
    {
     "data": {
      "text/plain": [
       "0      Becoming a Data Head: How to Think, Speak and ...\n",
       "5      Microsoft Excel Data Analysis and Business Mod...\n",
       "6      Ace the Data Science Interview: 201 Real Inter...\n",
       "7      SQL for Data Analytics: Perform fast and effic...\n",
       "10     Business Intelligence, Analytics, and Data Sci...\n",
       "19     Small Data: The Tiny Clues That Uncover Huge T...\n",
       "55                                   Thinking Basketball\n",
       "266    Competing on Analytics: The New Science of Win...\n",
       "283                           SQL All-in-One For Dummies\n",
       "287                           SQL All-in-One For Dummies\n",
       "322                                        R For Dummies\n",
       "361    Fundamentals of Data Analytics: With a View to...\n",
       "391    SQL Cookbook: Query Solutions and Techniques f...\n",
       "395    Becoming a Data Head: How to Think, Speak and ...\n",
       "400    Ace the Data Science Interview: 201 Real Inter...\n",
       "408    Information Dashboard Design: Displaying Data ...\n",
       "432    The Ethics of Artificial Intelligence in Educa...\n",
       "742      Qualitative Data Analysis: A Methods Sourcebook\n",
       "780         Data Visualization: A Practical Introduction\n",
       "788                                    Business Analysis\n",
       "Name: Title, dtype: object"
      ]
     },
     "execution_count": 11,
     "metadata": {},
     "output_type": "execute_result"
    }
   ],
   "source": [
    "data[data['Reviews']>=200]['Title']"
   ]
  },
  {
   "cell_type": "markdown",
   "id": "69147b8c",
   "metadata": {},
   "source": [
    "# 10. Grouping books by author & Maximun reviews"
   ]
  },
  {
   "cell_type": "code",
   "execution_count": 12,
   "id": "5c123178",
   "metadata": {},
   "outputs": [
    {
     "data": {
      "text/plain": [
       "Author\n",
       "Allen G. Taylor        790\n",
       "Nick Singh             695\n",
       "Andrie de Vries        493\n",
       "Wayne Winston          423\n",
       "Martin Lindstrom       347\n",
       "                      ... \n",
       "Stefan Papp              1\n",
       "Christian Mayer          1\n",
       "Andrew Nguyen            1\n",
       "Thomas Mailund           0\n",
       "David Spiegelhalter      0\n",
       "Name: Reviews, Length: 150, dtype: int64"
      ]
     },
     "execution_count": 12,
     "metadata": {},
     "output_type": "execute_result"
    }
   ],
   "source": [
    "data.groupby('Author')['Reviews'].max().sort_values(ascending=False)"
   ]
  },
  {
   "cell_type": "markdown",
   "id": "34820170",
   "metadata": {},
   "source": [
    "# 11. Highest, minimum, and average purchase prices"
   ]
  },
  {
   "cell_type": "code",
   "execution_count": 13,
   "id": "2cdb8a5e",
   "metadata": {},
   "outputs": [
    {
     "data": {
      "text/plain": [
       "179"
      ]
     },
     "execution_count": 13,
     "metadata": {},
     "output_type": "execute_result"
    }
   ],
   "source": [
    "data['Price'].max()"
   ]
  },
  {
   "cell_type": "code",
   "execution_count": 14,
   "id": "0c07dbd2",
   "metadata": {},
   "outputs": [
    {
     "data": {
      "text/plain": [
       "4"
      ]
     },
     "execution_count": 14,
     "metadata": {},
     "output_type": "execute_result"
    }
   ],
   "source": [
    "data['Price'].min()"
   ]
  },
  {
   "cell_type": "code",
   "execution_count": 15,
   "id": "9e375dfc",
   "metadata": {},
   "outputs": [
    {
     "data": {
      "text/plain": [
       "38.18888888888889"
      ]
     },
     "execution_count": 15,
     "metadata": {},
     "output_type": "execute_result"
    }
   ],
   "source": [
    "data['Price'].mean()"
   ]
  },
  {
   "cell_type": "markdown",
   "id": "75a6d40d",
   "metadata": {},
   "source": [
    "# 12. Which books has highest-Reviews?"
   ]
  },
  {
   "cell_type": "code",
   "execution_count": 16,
   "id": "d748c57f",
   "metadata": {},
   "outputs": [
    {
     "name": "stdout",
     "output_type": "stream",
     "text": [
      "1\n",
      "['SQL All-in-One For Dummies']\n",
      "None\n"
     ]
    }
   ],
   "source": [
    "print(data['Title'][data['Reviews'] == data['Reviews'].max()].nunique())\n",
    "print(print(data['Title'][data['Reviews'] == data['Reviews'].max()].unique()))"
   ]
  },
  {
   "cell_type": "markdown",
   "id": "b4405287",
   "metadata": {},
   "source": [
    "# 13. Which books has Minimum reviews?"
   ]
  },
  {
   "cell_type": "code",
   "execution_count": 17,
   "id": "9a3ffa01",
   "metadata": {},
   "outputs": [
    {
     "name": "stdout",
     "output_type": "stream",
     "text": [
      "2\n",
      "['Beginning Data Science in R 4: Data Analysis, Visualization, and Modelling for the Data Scientist'\n",
      " 'The Art of Statistics: How to Learn from Data']\n",
      "None\n"
     ]
    }
   ],
   "source": [
    "print(data['Title'][data['Reviews'] == data['Reviews'].min()].nunique())\n",
    "print(print(data['Title'][data['Reviews'] == data['Reviews'].min()].unique()))"
   ]
  },
  {
   "cell_type": "markdown",
   "id": "64f402e7",
   "metadata": {},
   "source": [
    "# 14. Does higher priced books are of better reviews?"
   ]
  },
  {
   "cell_type": "code",
   "execution_count": 19,
   "id": "33f8cd5a",
   "metadata": {},
   "outputs": [
    {
     "data": {
      "application/vnd.plotly.v1+json": {
       "config": {
        "plotlyServerURL": "https://plot.ly"
       },
       "data": [
        {
         "hovertemplate": "Price=%{x}<br>Reviews=%{y}<extra></extra>",
         "legendgroup": "",
         "marker": {
          "color": "#636efa",
          "symbol": "circle"
         },
         "mode": "markers",
         "name": "",
         "orientation": "v",
         "showlegend": false,
         "type": "scatter",
         "x": [
          24,
          27,
          10,
          38,
          27,
          45,
          33,
          40,
          19,
          18,
          6,
          18,
          32,
          20,
          31,
          15,
          18,
          41,
          35,
          30,
          22,
          30,
          45,
          14,
          24,
          20,
          34,
          12,
          49,
          20,
          26,
          41,
          22,
          126,
          38,
          64,
          18,
          13,
          167,
          9,
          69,
          31,
          18,
          51,
          19,
          29,
          19,
          39,
          15,
          63,
          31,
          12,
          119,
          57,
          16,
          13,
          88,
          15,
          39,
          39,
          17,
          41,
          39,
          37,
          47,
          28,
          7,
          179,
          44,
          9,
          23,
          69,
          39,
          45,
          49,
          21,
          40,
          33,
          48,
          54,
          44,
          39,
          38,
          28,
          20,
          38,
          41,
          36,
          34,
          34,
          81,
          29,
          24,
          27,
          38,
          37,
          24,
          29,
          20,
          37,
          18,
          33,
          31,
          25,
          57,
          52,
          39,
          38,
          18,
          27,
          48,
          49,
          42,
          61,
          24,
          44,
          23,
          26,
          69,
          25,
          4,
          69,
          41,
          26,
          70,
          35,
          34,
          83,
          21,
          36,
          34,
          33,
          4,
          51,
          48,
          16,
          38,
          19,
          69,
          50,
          27,
          29,
          42,
          44,
          23,
          17,
          54,
          46,
          51,
          13,
          25,
          46,
          59,
          43,
          17,
          24,
          37,
          47,
          43,
          51,
          19,
          90,
          100,
          32,
          77,
          46,
          21,
          41,
          16,
          149,
          84,
          26,
          24,
          28,
          42,
          34,
          31,
          7,
          18,
          51
         ],
         "xaxis": "x",
         "y": [
          209,
          27,
          423,
          695,
          234,
          68,
          280,
          6,
          134,
          117,
          347,
          148,
          61,
          199,
          54,
          94,
          89,
          24,
          59,
          25,
          68,
          8,
          52,
          2,
          4,
          43,
          13,
          209,
          34,
          33,
          32,
          18,
          26,
          4,
          13,
          27,
          208,
          24,
          1,
          25,
          29,
          26,
          28,
          30,
          790,
          34,
          790,
          28,
          31,
          29,
          67,
          31,
          2,
          32,
          8,
          17,
          37,
          35,
          13,
          36,
          493,
          38,
          44,
          39,
          44,
          184,
          1,
          3,
          45,
          48,
          50,
          48,
          10,
          2,
          11,
          263,
          72,
          35,
          72,
          77,
          81,
          11,
          84,
          44,
          103,
          16,
          67,
          96,
          1,
          50,
          299,
          32,
          209,
          27,
          695,
          34,
          173,
          32,
          299,
          27,
          117,
          134,
          159,
          6,
          1,
          104,
          94,
          16,
          33,
          52,
          252,
          64,
          68,
          2,
          53,
          45,
          43,
          48,
          9,
          37,
          2,
          32,
          18,
          4,
          30,
          35,
          28,
          10,
          147,
          25,
          27,
          24,
          46,
          24,
          42,
          17,
          18,
          26,
          28,
          141,
          31,
          29,
          98,
          30,
          32,
          16,
          33,
          18,
          34,
          17,
          113,
          38,
          28,
          0,
          40,
          4,
          41,
          44,
          31,
          14,
          114,
          205,
          55,
          44,
          5,
          62,
          56,
          24,
          73,
          81,
          85,
          2,
          140,
          184,
          206,
          19,
          98,
          1,
          0,
          250
         ],
         "yaxis": "y"
        }
       ],
       "layout": {
        "legend": {
         "tracegroupgap": 0
        },
        "margin": {
         "t": 60
        },
        "template": {
         "data": {
          "bar": [
           {
            "error_x": {
             "color": "#2a3f5f"
            },
            "error_y": {
             "color": "#2a3f5f"
            },
            "marker": {
             "line": {
              "color": "#E5ECF6",
              "width": 0.5
             },
             "pattern": {
              "fillmode": "overlay",
              "size": 10,
              "solidity": 0.2
             }
            },
            "type": "bar"
           }
          ],
          "barpolar": [
           {
            "marker": {
             "line": {
              "color": "#E5ECF6",
              "width": 0.5
             },
             "pattern": {
              "fillmode": "overlay",
              "size": 10,
              "solidity": 0.2
             }
            },
            "type": "barpolar"
           }
          ],
          "carpet": [
           {
            "aaxis": {
             "endlinecolor": "#2a3f5f",
             "gridcolor": "white",
             "linecolor": "white",
             "minorgridcolor": "white",
             "startlinecolor": "#2a3f5f"
            },
            "baxis": {
             "endlinecolor": "#2a3f5f",
             "gridcolor": "white",
             "linecolor": "white",
             "minorgridcolor": "white",
             "startlinecolor": "#2a3f5f"
            },
            "type": "carpet"
           }
          ],
          "choropleth": [
           {
            "colorbar": {
             "outlinewidth": 0,
             "ticks": ""
            },
            "type": "choropleth"
           }
          ],
          "contour": [
           {
            "colorbar": {
             "outlinewidth": 0,
             "ticks": ""
            },
            "colorscale": [
             [
              0,
              "#0d0887"
             ],
             [
              0.1111111111111111,
              "#46039f"
             ],
             [
              0.2222222222222222,
              "#7201a8"
             ],
             [
              0.3333333333333333,
              "#9c179e"
             ],
             [
              0.4444444444444444,
              "#bd3786"
             ],
             [
              0.5555555555555556,
              "#d8576b"
             ],
             [
              0.6666666666666666,
              "#ed7953"
             ],
             [
              0.7777777777777778,
              "#fb9f3a"
             ],
             [
              0.8888888888888888,
              "#fdca26"
             ],
             [
              1,
              "#f0f921"
             ]
            ],
            "type": "contour"
           }
          ],
          "contourcarpet": [
           {
            "colorbar": {
             "outlinewidth": 0,
             "ticks": ""
            },
            "type": "contourcarpet"
           }
          ],
          "heatmap": [
           {
            "colorbar": {
             "outlinewidth": 0,
             "ticks": ""
            },
            "colorscale": [
             [
              0,
              "#0d0887"
             ],
             [
              0.1111111111111111,
              "#46039f"
             ],
             [
              0.2222222222222222,
              "#7201a8"
             ],
             [
              0.3333333333333333,
              "#9c179e"
             ],
             [
              0.4444444444444444,
              "#bd3786"
             ],
             [
              0.5555555555555556,
              "#d8576b"
             ],
             [
              0.6666666666666666,
              "#ed7953"
             ],
             [
              0.7777777777777778,
              "#fb9f3a"
             ],
             [
              0.8888888888888888,
              "#fdca26"
             ],
             [
              1,
              "#f0f921"
             ]
            ],
            "type": "heatmap"
           }
          ],
          "heatmapgl": [
           {
            "colorbar": {
             "outlinewidth": 0,
             "ticks": ""
            },
            "colorscale": [
             [
              0,
              "#0d0887"
             ],
             [
              0.1111111111111111,
              "#46039f"
             ],
             [
              0.2222222222222222,
              "#7201a8"
             ],
             [
              0.3333333333333333,
              "#9c179e"
             ],
             [
              0.4444444444444444,
              "#bd3786"
             ],
             [
              0.5555555555555556,
              "#d8576b"
             ],
             [
              0.6666666666666666,
              "#ed7953"
             ],
             [
              0.7777777777777778,
              "#fb9f3a"
             ],
             [
              0.8888888888888888,
              "#fdca26"
             ],
             [
              1,
              "#f0f921"
             ]
            ],
            "type": "heatmapgl"
           }
          ],
          "histogram": [
           {
            "marker": {
             "pattern": {
              "fillmode": "overlay",
              "size": 10,
              "solidity": 0.2
             }
            },
            "type": "histogram"
           }
          ],
          "histogram2d": [
           {
            "colorbar": {
             "outlinewidth": 0,
             "ticks": ""
            },
            "colorscale": [
             [
              0,
              "#0d0887"
             ],
             [
              0.1111111111111111,
              "#46039f"
             ],
             [
              0.2222222222222222,
              "#7201a8"
             ],
             [
              0.3333333333333333,
              "#9c179e"
             ],
             [
              0.4444444444444444,
              "#bd3786"
             ],
             [
              0.5555555555555556,
              "#d8576b"
             ],
             [
              0.6666666666666666,
              "#ed7953"
             ],
             [
              0.7777777777777778,
              "#fb9f3a"
             ],
             [
              0.8888888888888888,
              "#fdca26"
             ],
             [
              1,
              "#f0f921"
             ]
            ],
            "type": "histogram2d"
           }
          ],
          "histogram2dcontour": [
           {
            "colorbar": {
             "outlinewidth": 0,
             "ticks": ""
            },
            "colorscale": [
             [
              0,
              "#0d0887"
             ],
             [
              0.1111111111111111,
              "#46039f"
             ],
             [
              0.2222222222222222,
              "#7201a8"
             ],
             [
              0.3333333333333333,
              "#9c179e"
             ],
             [
              0.4444444444444444,
              "#bd3786"
             ],
             [
              0.5555555555555556,
              "#d8576b"
             ],
             [
              0.6666666666666666,
              "#ed7953"
             ],
             [
              0.7777777777777778,
              "#fb9f3a"
             ],
             [
              0.8888888888888888,
              "#fdca26"
             ],
             [
              1,
              "#f0f921"
             ]
            ],
            "type": "histogram2dcontour"
           }
          ],
          "mesh3d": [
           {
            "colorbar": {
             "outlinewidth": 0,
             "ticks": ""
            },
            "type": "mesh3d"
           }
          ],
          "parcoords": [
           {
            "line": {
             "colorbar": {
              "outlinewidth": 0,
              "ticks": ""
             }
            },
            "type": "parcoords"
           }
          ],
          "pie": [
           {
            "automargin": true,
            "type": "pie"
           }
          ],
          "scatter": [
           {
            "fillpattern": {
             "fillmode": "overlay",
             "size": 10,
             "solidity": 0.2
            },
            "type": "scatter"
           }
          ],
          "scatter3d": [
           {
            "line": {
             "colorbar": {
              "outlinewidth": 0,
              "ticks": ""
             }
            },
            "marker": {
             "colorbar": {
              "outlinewidth": 0,
              "ticks": ""
             }
            },
            "type": "scatter3d"
           }
          ],
          "scattercarpet": [
           {
            "marker": {
             "colorbar": {
              "outlinewidth": 0,
              "ticks": ""
             }
            },
            "type": "scattercarpet"
           }
          ],
          "scattergeo": [
           {
            "marker": {
             "colorbar": {
              "outlinewidth": 0,
              "ticks": ""
             }
            },
            "type": "scattergeo"
           }
          ],
          "scattergl": [
           {
            "marker": {
             "colorbar": {
              "outlinewidth": 0,
              "ticks": ""
             }
            },
            "type": "scattergl"
           }
          ],
          "scattermapbox": [
           {
            "marker": {
             "colorbar": {
              "outlinewidth": 0,
              "ticks": ""
             }
            },
            "type": "scattermapbox"
           }
          ],
          "scatterpolar": [
           {
            "marker": {
             "colorbar": {
              "outlinewidth": 0,
              "ticks": ""
             }
            },
            "type": "scatterpolar"
           }
          ],
          "scatterpolargl": [
           {
            "marker": {
             "colorbar": {
              "outlinewidth": 0,
              "ticks": ""
             }
            },
            "type": "scatterpolargl"
           }
          ],
          "scatterternary": [
           {
            "marker": {
             "colorbar": {
              "outlinewidth": 0,
              "ticks": ""
             }
            },
            "type": "scatterternary"
           }
          ],
          "surface": [
           {
            "colorbar": {
             "outlinewidth": 0,
             "ticks": ""
            },
            "colorscale": [
             [
              0,
              "#0d0887"
             ],
             [
              0.1111111111111111,
              "#46039f"
             ],
             [
              0.2222222222222222,
              "#7201a8"
             ],
             [
              0.3333333333333333,
              "#9c179e"
             ],
             [
              0.4444444444444444,
              "#bd3786"
             ],
             [
              0.5555555555555556,
              "#d8576b"
             ],
             [
              0.6666666666666666,
              "#ed7953"
             ],
             [
              0.7777777777777778,
              "#fb9f3a"
             ],
             [
              0.8888888888888888,
              "#fdca26"
             ],
             [
              1,
              "#f0f921"
             ]
            ],
            "type": "surface"
           }
          ],
          "table": [
           {
            "cells": {
             "fill": {
              "color": "#EBF0F8"
             },
             "line": {
              "color": "white"
             }
            },
            "header": {
             "fill": {
              "color": "#C8D4E3"
             },
             "line": {
              "color": "white"
             }
            },
            "type": "table"
           }
          ]
         },
         "layout": {
          "annotationdefaults": {
           "arrowcolor": "#2a3f5f",
           "arrowhead": 0,
           "arrowwidth": 1
          },
          "autotypenumbers": "strict",
          "coloraxis": {
           "colorbar": {
            "outlinewidth": 0,
            "ticks": ""
           }
          },
          "colorscale": {
           "diverging": [
            [
             0,
             "#8e0152"
            ],
            [
             0.1,
             "#c51b7d"
            ],
            [
             0.2,
             "#de77ae"
            ],
            [
             0.3,
             "#f1b6da"
            ],
            [
             0.4,
             "#fde0ef"
            ],
            [
             0.5,
             "#f7f7f7"
            ],
            [
             0.6,
             "#e6f5d0"
            ],
            [
             0.7,
             "#b8e186"
            ],
            [
             0.8,
             "#7fbc41"
            ],
            [
             0.9,
             "#4d9221"
            ],
            [
             1,
             "#276419"
            ]
           ],
           "sequential": [
            [
             0,
             "#0d0887"
            ],
            [
             0.1111111111111111,
             "#46039f"
            ],
            [
             0.2222222222222222,
             "#7201a8"
            ],
            [
             0.3333333333333333,
             "#9c179e"
            ],
            [
             0.4444444444444444,
             "#bd3786"
            ],
            [
             0.5555555555555556,
             "#d8576b"
            ],
            [
             0.6666666666666666,
             "#ed7953"
            ],
            [
             0.7777777777777778,
             "#fb9f3a"
            ],
            [
             0.8888888888888888,
             "#fdca26"
            ],
            [
             1,
             "#f0f921"
            ]
           ],
           "sequentialminus": [
            [
             0,
             "#0d0887"
            ],
            [
             0.1111111111111111,
             "#46039f"
            ],
            [
             0.2222222222222222,
             "#7201a8"
            ],
            [
             0.3333333333333333,
             "#9c179e"
            ],
            [
             0.4444444444444444,
             "#bd3786"
            ],
            [
             0.5555555555555556,
             "#d8576b"
            ],
            [
             0.6666666666666666,
             "#ed7953"
            ],
            [
             0.7777777777777778,
             "#fb9f3a"
            ],
            [
             0.8888888888888888,
             "#fdca26"
            ],
            [
             1,
             "#f0f921"
            ]
           ]
          },
          "colorway": [
           "#636efa",
           "#EF553B",
           "#00cc96",
           "#ab63fa",
           "#FFA15A",
           "#19d3f3",
           "#FF6692",
           "#B6E880",
           "#FF97FF",
           "#FECB52"
          ],
          "font": {
           "color": "#2a3f5f"
          },
          "geo": {
           "bgcolor": "white",
           "lakecolor": "white",
           "landcolor": "#E5ECF6",
           "showlakes": true,
           "showland": true,
           "subunitcolor": "white"
          },
          "hoverlabel": {
           "align": "left"
          },
          "hovermode": "closest",
          "mapbox": {
           "style": "light"
          },
          "paper_bgcolor": "white",
          "plot_bgcolor": "#E5ECF6",
          "polar": {
           "angularaxis": {
            "gridcolor": "white",
            "linecolor": "white",
            "ticks": ""
           },
           "bgcolor": "#E5ECF6",
           "radialaxis": {
            "gridcolor": "white",
            "linecolor": "white",
            "ticks": ""
           }
          },
          "scene": {
           "xaxis": {
            "backgroundcolor": "#E5ECF6",
            "gridcolor": "white",
            "gridwidth": 2,
            "linecolor": "white",
            "showbackground": true,
            "ticks": "",
            "zerolinecolor": "white"
           },
           "yaxis": {
            "backgroundcolor": "#E5ECF6",
            "gridcolor": "white",
            "gridwidth": 2,
            "linecolor": "white",
            "showbackground": true,
            "ticks": "",
            "zerolinecolor": "white"
           },
           "zaxis": {
            "backgroundcolor": "#E5ECF6",
            "gridcolor": "white",
            "gridwidth": 2,
            "linecolor": "white",
            "showbackground": true,
            "ticks": "",
            "zerolinecolor": "white"
           }
          },
          "shapedefaults": {
           "line": {
            "color": "#2a3f5f"
           }
          },
          "ternary": {
           "aaxis": {
            "gridcolor": "white",
            "linecolor": "white",
            "ticks": ""
           },
           "baxis": {
            "gridcolor": "white",
            "linecolor": "white",
            "ticks": ""
           },
           "bgcolor": "#E5ECF6",
           "caxis": {
            "gridcolor": "white",
            "linecolor": "white",
            "ticks": ""
           }
          },
          "title": {
           "x": 0.05
          },
          "xaxis": {
           "automargin": true,
           "gridcolor": "white",
           "linecolor": "white",
           "ticks": "",
           "title": {
            "standoff": 15
           },
           "zerolinecolor": "white",
           "zerolinewidth": 2
          },
          "yaxis": {
           "automargin": true,
           "gridcolor": "white",
           "linecolor": "white",
           "ticks": "",
           "title": {
            "standoff": 15
           },
           "zerolinecolor": "white",
           "zerolinewidth": 2
          }
         }
        },
        "xaxis": {
         "anchor": "y",
         "domain": [
          0,
          1
         ],
         "title": {
          "text": "Price"
         }
        },
        "yaxis": {
         "anchor": "x",
         "domain": [
          0,
          1
         ],
         "title": {
          "text": "Reviews"
         }
        }
       }
      },
      "text/html": [
       "<div>                            <div id=\"e2786b72-b3d9-4ef2-8f83-b34bd169ebdd\" class=\"plotly-graph-div\" style=\"height:525px; width:100%;\"></div>            <script type=\"text/javascript\">                require([\"plotly\"], function(Plotly) {                    window.PLOTLYENV=window.PLOTLYENV || {};                                    if (document.getElementById(\"e2786b72-b3d9-4ef2-8f83-b34bd169ebdd\")) {                    Plotly.newPlot(                        \"e2786b72-b3d9-4ef2-8f83-b34bd169ebdd\",                        [{\"hovertemplate\":\"Price=%{x}<br>Reviews=%{y}<extra></extra>\",\"legendgroup\":\"\",\"marker\":{\"color\":\"#636efa\",\"symbol\":\"circle\"},\"mode\":\"markers\",\"name\":\"\",\"orientation\":\"v\",\"showlegend\":false,\"x\":[24,27,10,38,27,45,33,40,19,18,6,18,32,20,31,15,18,41,35,30,22,30,45,14,24,20,34,12,49,20,26,41,22,126,38,64,18,13,167,9,69,31,18,51,19,29,19,39,15,63,31,12,119,57,16,13,88,15,39,39,17,41,39,37,47,28,7,179,44,9,23,69,39,45,49,21,40,33,48,54,44,39,38,28,20,38,41,36,34,34,81,29,24,27,38,37,24,29,20,37,18,33,31,25,57,52,39,38,18,27,48,49,42,61,24,44,23,26,69,25,4,69,41,26,70,35,34,83,21,36,34,33,4,51,48,16,38,19,69,50,27,29,42,44,23,17,54,46,51,13,25,46,59,43,17,24,37,47,43,51,19,90,100,32,77,46,21,41,16,149,84,26,24,28,42,34,31,7,18,51],\"xaxis\":\"x\",\"y\":[209,27,423,695,234,68,280,6,134,117,347,148,61,199,54,94,89,24,59,25,68,8,52,2,4,43,13,209,34,33,32,18,26,4,13,27,208,24,1,25,29,26,28,30,790,34,790,28,31,29,67,31,2,32,8,17,37,35,13,36,493,38,44,39,44,184,1,3,45,48,50,48,10,2,11,263,72,35,72,77,81,11,84,44,103,16,67,96,1,50,299,32,209,27,695,34,173,32,299,27,117,134,159,6,1,104,94,16,33,52,252,64,68,2,53,45,43,48,9,37,2,32,18,4,30,35,28,10,147,25,27,24,46,24,42,17,18,26,28,141,31,29,98,30,32,16,33,18,34,17,113,38,28,0,40,4,41,44,31,14,114,205,55,44,5,62,56,24,73,81,85,2,140,184,206,19,98,1,0,250],\"yaxis\":\"y\",\"type\":\"scatter\"}],                        {\"template\":{\"data\":{\"histogram2dcontour\":[{\"type\":\"histogram2dcontour\",\"colorbar\":{\"outlinewidth\":0,\"ticks\":\"\"},\"colorscale\":[[0.0,\"#0d0887\"],[0.1111111111111111,\"#46039f\"],[0.2222222222222222,\"#7201a8\"],[0.3333333333333333,\"#9c179e\"],[0.4444444444444444,\"#bd3786\"],[0.5555555555555556,\"#d8576b\"],[0.6666666666666666,\"#ed7953\"],[0.7777777777777778,\"#fb9f3a\"],[0.8888888888888888,\"#fdca26\"],[1.0,\"#f0f921\"]]}],\"choropleth\":[{\"type\":\"choropleth\",\"colorbar\":{\"outlinewidth\":0,\"ticks\":\"\"}}],\"histogram2d\":[{\"type\":\"histogram2d\",\"colorbar\":{\"outlinewidth\":0,\"ticks\":\"\"},\"colorscale\":[[0.0,\"#0d0887\"],[0.1111111111111111,\"#46039f\"],[0.2222222222222222,\"#7201a8\"],[0.3333333333333333,\"#9c179e\"],[0.4444444444444444,\"#bd3786\"],[0.5555555555555556,\"#d8576b\"],[0.6666666666666666,\"#ed7953\"],[0.7777777777777778,\"#fb9f3a\"],[0.8888888888888888,\"#fdca26\"],[1.0,\"#f0f921\"]]}],\"heatmap\":[{\"type\":\"heatmap\",\"colorbar\":{\"outlinewidth\":0,\"ticks\":\"\"},\"colorscale\":[[0.0,\"#0d0887\"],[0.1111111111111111,\"#46039f\"],[0.2222222222222222,\"#7201a8\"],[0.3333333333333333,\"#9c179e\"],[0.4444444444444444,\"#bd3786\"],[0.5555555555555556,\"#d8576b\"],[0.6666666666666666,\"#ed7953\"],[0.7777777777777778,\"#fb9f3a\"],[0.8888888888888888,\"#fdca26\"],[1.0,\"#f0f921\"]]}],\"heatmapgl\":[{\"type\":\"heatmapgl\",\"colorbar\":{\"outlinewidth\":0,\"ticks\":\"\"},\"colorscale\":[[0.0,\"#0d0887\"],[0.1111111111111111,\"#46039f\"],[0.2222222222222222,\"#7201a8\"],[0.3333333333333333,\"#9c179e\"],[0.4444444444444444,\"#bd3786\"],[0.5555555555555556,\"#d8576b\"],[0.6666666666666666,\"#ed7953\"],[0.7777777777777778,\"#fb9f3a\"],[0.8888888888888888,\"#fdca26\"],[1.0,\"#f0f921\"]]}],\"contourcarpet\":[{\"type\":\"contourcarpet\",\"colorbar\":{\"outlinewidth\":0,\"ticks\":\"\"}}],\"contour\":[{\"type\":\"contour\",\"colorbar\":{\"outlinewidth\":0,\"ticks\":\"\"},\"colorscale\":[[0.0,\"#0d0887\"],[0.1111111111111111,\"#46039f\"],[0.2222222222222222,\"#7201a8\"],[0.3333333333333333,\"#9c179e\"],[0.4444444444444444,\"#bd3786\"],[0.5555555555555556,\"#d8576b\"],[0.6666666666666666,\"#ed7953\"],[0.7777777777777778,\"#fb9f3a\"],[0.8888888888888888,\"#fdca26\"],[1.0,\"#f0f921\"]]}],\"surface\":[{\"type\":\"surface\",\"colorbar\":{\"outlinewidth\":0,\"ticks\":\"\"},\"colorscale\":[[0.0,\"#0d0887\"],[0.1111111111111111,\"#46039f\"],[0.2222222222222222,\"#7201a8\"],[0.3333333333333333,\"#9c179e\"],[0.4444444444444444,\"#bd3786\"],[0.5555555555555556,\"#d8576b\"],[0.6666666666666666,\"#ed7953\"],[0.7777777777777778,\"#fb9f3a\"],[0.8888888888888888,\"#fdca26\"],[1.0,\"#f0f921\"]]}],\"mesh3d\":[{\"type\":\"mesh3d\",\"colorbar\":{\"outlinewidth\":0,\"ticks\":\"\"}}],\"scatter\":[{\"fillpattern\":{\"fillmode\":\"overlay\",\"size\":10,\"solidity\":0.2},\"type\":\"scatter\"}],\"parcoords\":[{\"type\":\"parcoords\",\"line\":{\"colorbar\":{\"outlinewidth\":0,\"ticks\":\"\"}}}],\"scatterpolargl\":[{\"type\":\"scatterpolargl\",\"marker\":{\"colorbar\":{\"outlinewidth\":0,\"ticks\":\"\"}}}],\"bar\":[{\"error_x\":{\"color\":\"#2a3f5f\"},\"error_y\":{\"color\":\"#2a3f5f\"},\"marker\":{\"line\":{\"color\":\"#E5ECF6\",\"width\":0.5},\"pattern\":{\"fillmode\":\"overlay\",\"size\":10,\"solidity\":0.2}},\"type\":\"bar\"}],\"scattergeo\":[{\"type\":\"scattergeo\",\"marker\":{\"colorbar\":{\"outlinewidth\":0,\"ticks\":\"\"}}}],\"scatterpolar\":[{\"type\":\"scatterpolar\",\"marker\":{\"colorbar\":{\"outlinewidth\":0,\"ticks\":\"\"}}}],\"histogram\":[{\"marker\":{\"pattern\":{\"fillmode\":\"overlay\",\"size\":10,\"solidity\":0.2}},\"type\":\"histogram\"}],\"scattergl\":[{\"type\":\"scattergl\",\"marker\":{\"colorbar\":{\"outlinewidth\":0,\"ticks\":\"\"}}}],\"scatter3d\":[{\"type\":\"scatter3d\",\"line\":{\"colorbar\":{\"outlinewidth\":0,\"ticks\":\"\"}},\"marker\":{\"colorbar\":{\"outlinewidth\":0,\"ticks\":\"\"}}}],\"scattermapbox\":[{\"type\":\"scattermapbox\",\"marker\":{\"colorbar\":{\"outlinewidth\":0,\"ticks\":\"\"}}}],\"scatterternary\":[{\"type\":\"scatterternary\",\"marker\":{\"colorbar\":{\"outlinewidth\":0,\"ticks\":\"\"}}}],\"scattercarpet\":[{\"type\":\"scattercarpet\",\"marker\":{\"colorbar\":{\"outlinewidth\":0,\"ticks\":\"\"}}}],\"carpet\":[{\"aaxis\":{\"endlinecolor\":\"#2a3f5f\",\"gridcolor\":\"white\",\"linecolor\":\"white\",\"minorgridcolor\":\"white\",\"startlinecolor\":\"#2a3f5f\"},\"baxis\":{\"endlinecolor\":\"#2a3f5f\",\"gridcolor\":\"white\",\"linecolor\":\"white\",\"minorgridcolor\":\"white\",\"startlinecolor\":\"#2a3f5f\"},\"type\":\"carpet\"}],\"table\":[{\"cells\":{\"fill\":{\"color\":\"#EBF0F8\"},\"line\":{\"color\":\"white\"}},\"header\":{\"fill\":{\"color\":\"#C8D4E3\"},\"line\":{\"color\":\"white\"}},\"type\":\"table\"}],\"barpolar\":[{\"marker\":{\"line\":{\"color\":\"#E5ECF6\",\"width\":0.5},\"pattern\":{\"fillmode\":\"overlay\",\"size\":10,\"solidity\":0.2}},\"type\":\"barpolar\"}],\"pie\":[{\"automargin\":true,\"type\":\"pie\"}]},\"layout\":{\"autotypenumbers\":\"strict\",\"colorway\":[\"#636efa\",\"#EF553B\",\"#00cc96\",\"#ab63fa\",\"#FFA15A\",\"#19d3f3\",\"#FF6692\",\"#B6E880\",\"#FF97FF\",\"#FECB52\"],\"font\":{\"color\":\"#2a3f5f\"},\"hovermode\":\"closest\",\"hoverlabel\":{\"align\":\"left\"},\"paper_bgcolor\":\"white\",\"plot_bgcolor\":\"#E5ECF6\",\"polar\":{\"bgcolor\":\"#E5ECF6\",\"angularaxis\":{\"gridcolor\":\"white\",\"linecolor\":\"white\",\"ticks\":\"\"},\"radialaxis\":{\"gridcolor\":\"white\",\"linecolor\":\"white\",\"ticks\":\"\"}},\"ternary\":{\"bgcolor\":\"#E5ECF6\",\"aaxis\":{\"gridcolor\":\"white\",\"linecolor\":\"white\",\"ticks\":\"\"},\"baxis\":{\"gridcolor\":\"white\",\"linecolor\":\"white\",\"ticks\":\"\"},\"caxis\":{\"gridcolor\":\"white\",\"linecolor\":\"white\",\"ticks\":\"\"}},\"coloraxis\":{\"colorbar\":{\"outlinewidth\":0,\"ticks\":\"\"}},\"colorscale\":{\"sequential\":[[0.0,\"#0d0887\"],[0.1111111111111111,\"#46039f\"],[0.2222222222222222,\"#7201a8\"],[0.3333333333333333,\"#9c179e\"],[0.4444444444444444,\"#bd3786\"],[0.5555555555555556,\"#d8576b\"],[0.6666666666666666,\"#ed7953\"],[0.7777777777777778,\"#fb9f3a\"],[0.8888888888888888,\"#fdca26\"],[1.0,\"#f0f921\"]],\"sequentialminus\":[[0.0,\"#0d0887\"],[0.1111111111111111,\"#46039f\"],[0.2222222222222222,\"#7201a8\"],[0.3333333333333333,\"#9c179e\"],[0.4444444444444444,\"#bd3786\"],[0.5555555555555556,\"#d8576b\"],[0.6666666666666666,\"#ed7953\"],[0.7777777777777778,\"#fb9f3a\"],[0.8888888888888888,\"#fdca26\"],[1.0,\"#f0f921\"]],\"diverging\":[[0,\"#8e0152\"],[0.1,\"#c51b7d\"],[0.2,\"#de77ae\"],[0.3,\"#f1b6da\"],[0.4,\"#fde0ef\"],[0.5,\"#f7f7f7\"],[0.6,\"#e6f5d0\"],[0.7,\"#b8e186\"],[0.8,\"#7fbc41\"],[0.9,\"#4d9221\"],[1,\"#276419\"]]},\"xaxis\":{\"gridcolor\":\"white\",\"linecolor\":\"white\",\"ticks\":\"\",\"title\":{\"standoff\":15},\"zerolinecolor\":\"white\",\"automargin\":true,\"zerolinewidth\":2},\"yaxis\":{\"gridcolor\":\"white\",\"linecolor\":\"white\",\"ticks\":\"\",\"title\":{\"standoff\":15},\"zerolinecolor\":\"white\",\"automargin\":true,\"zerolinewidth\":2},\"scene\":{\"xaxis\":{\"backgroundcolor\":\"#E5ECF6\",\"gridcolor\":\"white\",\"linecolor\":\"white\",\"showbackground\":true,\"ticks\":\"\",\"zerolinecolor\":\"white\",\"gridwidth\":2},\"yaxis\":{\"backgroundcolor\":\"#E5ECF6\",\"gridcolor\":\"white\",\"linecolor\":\"white\",\"showbackground\":true,\"ticks\":\"\",\"zerolinecolor\":\"white\",\"gridwidth\":2},\"zaxis\":{\"backgroundcolor\":\"#E5ECF6\",\"gridcolor\":\"white\",\"linecolor\":\"white\",\"showbackground\":true,\"ticks\":\"\",\"zerolinecolor\":\"white\",\"gridwidth\":2}},\"shapedefaults\":{\"line\":{\"color\":\"#2a3f5f\"}},\"annotationdefaults\":{\"arrowcolor\":\"#2a3f5f\",\"arrowhead\":0,\"arrowwidth\":1},\"geo\":{\"bgcolor\":\"white\",\"landcolor\":\"#E5ECF6\",\"subunitcolor\":\"white\",\"showland\":true,\"showlakes\":true,\"lakecolor\":\"white\"},\"title\":{\"x\":0.05},\"mapbox\":{\"style\":\"light\"}}},\"xaxis\":{\"anchor\":\"y\",\"domain\":[0.0,1.0],\"title\":{\"text\":\"Price\"}},\"yaxis\":{\"anchor\":\"x\",\"domain\":[0.0,1.0],\"title\":{\"text\":\"Reviews\"}},\"legend\":{\"tracegroupgap\":0},\"margin\":{\"t\":60}},                        {\"responsive\": true}                    ).then(function(){\n",
       "                            \n",
       "var gd = document.getElementById('e2786b72-b3d9-4ef2-8f83-b34bd169ebdd');\n",
       "var x = new MutationObserver(function (mutations, observer) {{\n",
       "        var display = window.getComputedStyle(gd).display;\n",
       "        if (!display || display === 'none') {{\n",
       "            console.log([gd, 'removed!']);\n",
       "            Plotly.purge(gd);\n",
       "            observer.disconnect();\n",
       "        }}\n",
       "}});\n",
       "\n",
       "// Listen for the removal of the full notebook cells\n",
       "var notebookContainer = gd.closest('#notebook-container');\n",
       "if (notebookContainer) {{\n",
       "    x.observe(notebookContainer, {childList: true});\n",
       "}}\n",
       "\n",
       "// Listen for the clearing of the current output cell\n",
       "var outputEl = gd.closest('.output');\n",
       "if (outputEl) {{\n",
       "    x.observe(outputEl, {childList: true});\n",
       "}}\n",
       "\n",
       "                        })                };                });            </script>        </div>"
      ]
     },
     "metadata": {},
     "output_type": "display_data"
    }
   ],
   "source": [
    "px.scatter(data, x ='Price', y='Reviews')"
   ]
  },
  {
   "cell_type": "code",
   "execution_count": null,
   "id": "b6701c7b",
   "metadata": {},
   "outputs": [],
   "source": []
  }
 ],
 "metadata": {
  "kernelspec": {
   "display_name": "Python 3 (ipykernel)",
   "language": "python",
   "name": "python3"
  },
  "language_info": {
   "codemirror_mode": {
    "name": "ipython",
    "version": 3
   },
   "file_extension": ".py",
   "mimetype": "text/x-python",
   "name": "python",
   "nbconvert_exporter": "python",
   "pygments_lexer": "ipython3",
   "version": "3.9.13"
  }
 },
 "nbformat": 4,
 "nbformat_minor": 5
}
